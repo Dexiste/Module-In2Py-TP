{
 "cells": [
  {
   "cell_type": "markdown",
   "id": "71794350",
   "metadata": {},
   "source": [
    "# <center> <b> <span style=\"color:green;font-family: 'Comic Sans Ms';font-style:italic\">Résultats du TP n°4\n",
    "</span> </b></center>\n"
   ]
  },
  {
   "cell_type": "markdown",
   "id": "ce454eb9",
   "metadata": {},
   "source": [
    "**Question 1**"
   ]
  },
  {
   "cell_type": "code",
   "execution_count": 25,
   "id": "2ec55c05",
   "metadata": {},
   "outputs": [],
   "source": [
    "prod = {}\n",
    "def gerer_produit(action):\n",
    "    \"\"\"__Gerer les produits\"\"\"\n",
    "    \n",
    "    if(action==1):\n",
    "        produit = input(\"Veuillez entrer le nom du produit\")\n",
    "        prix = int(input(\"Veuillez entrer le prix\"))\n",
    "        prod.update({produit:prix})\n",
    "        print(\"Votre produit a été bien ajouter\")\n",
    "    elif(action==2):\n",
    "        produit = input(\"Veuillez entrer le nom du produit\")\n",
    "        prix = int(input(\"Veuillez entrer le prix\"))\n",
    "        prod[produit] = prix\n",
    "        print(\"Le prix de votre produit a été bien modifier\")\n",
    "    elif(action==3):\n",
    "        produit = input(\"Veuillez entrer le nom du produit\")\n",
    "        print(prod[produit])\n",
    "    else:\n",
    "        print(\"Veuillez vérifier votre choix. Je ne peux pas vous aider\")\n",
    "        menu()\n",
    "def menu():\n",
    "    print(\"1- Ajouter un produit et son prix \")\n",
    "    print(\"2- Modifier le prix d'un produit \")\n",
    "    print(\"3- Consulter le prix d'un produit \")\n",
    "    choix = int(input(\"Votre choix svp \"))\n",
    "    return gerer_produit(choix)\n",
    "    \n",
    "    "
   ]
  },
  {
   "cell_type": "code",
   "execution_count": 28,
   "id": "e987e578",
   "metadata": {},
   "outputs": [
    {
     "name": "stdout",
     "output_type": "stream",
     "text": [
      "1- Ajouter un produit et son prix \n",
      "2- Modifier le prix d'un produit \n",
      "3- Consulter le prix d'un produit \n",
      "Votre choix svp 4\n",
      "Veuillez vérifier votre choix. Je ne peux pas vous aider\n",
      "1- Ajouter un produit et son prix \n",
      "2- Modifier le prix d'un produit \n",
      "3- Consulter le prix d'un produit \n",
      "Votre choix svp 2\n",
      "Veuillez entrer le nom du produitBanane\n",
      "Veuillez entrer le prix900\n",
      "Le prix de votre produit a été bien modifier\n",
      "{'Banane': 900}\n"
     ]
    }
   ],
   "source": [
    "menu()\n",
    "print(prod)"
   ]
  },
  {
   "cell_type": "markdown",
   "id": "304b34de",
   "metadata": {},
   "source": [
    "**Question 2**"
   ]
  },
  {
   "cell_type": "code",
   "execution_count": 46,
   "id": "325c5139",
   "metadata": {},
   "outputs": [],
   "source": [
    "def menu1():\n",
    "    print(\"1- Ajouter un nouveau nom et son numero de téléphone \")\n",
    "    print(\"2- Rechercher un numéro de téléphone à partir de son nom \")\n",
    "    print(\"3- Rechercher un nom à partir de son numéro de téléphone \")\n",
    "    print(\"4- Imprimer la liste complète des téléphones \")\n",
    "    choix = int(input(\"Votre choix svp \"))\n",
    "    return gerer_telephone(choix)\n",
    "tel = {}\n",
    "def gerer_telephone(action):\n",
    "    \"\"\"__Gerer les produits\"\"\"\n",
    "    \n",
    "    if(action==1):\n",
    "        nom = input(\"Veuillez entrer le nom \")\n",
    "        numero = int(input(\"Veuillez entrer le numéro \"))\n",
    "        tel.update({nom:numero})\n",
    "        print(\"Enregistrement effectuer avec succès\")\n",
    "    elif(action==2):\n",
    "        nom = input(\"Veuillez entrer le nom du propriétaire à rechercher \")\n",
    "        for i in tel:\n",
    "            if(i==nom):\n",
    "                print(\"Le numero a été retrouver \")\n",
    "                print(\"Le numero correspondant est :\",tel[i])\n",
    "                \n",
    "    elif(action==3):\n",
    "        numero = int(input(\"Veuillez entrer le numero du propriétaire à rechercher \"))\n",
    "        for i in tel:\n",
    "            if(tel[i]==numero):\n",
    "                print(\"Le nom a été retrouver \")\n",
    "                print(\"Le nom correspondant est :\",i)\n",
    "    elif(action==4):\n",
    "        for x, y in tel.items():\n",
    "            print(x, y)\n",
    "    else:\n",
    "        print(\"Veuillez vérifier votre choix. Je ne peux pas vous aider\")\n",
    "        menu()"
   ]
  },
  {
   "cell_type": "code",
   "execution_count": 56,
   "id": "ff20ecf8",
   "metadata": {},
   "outputs": [
    {
     "name": "stdout",
     "output_type": "stream",
     "text": [
      "1- Ajouter un nouveau nom et son numero de téléphone \n",
      "2- Rechercher un numéro de téléphone à partir de son nom \n",
      "3- Rechercher un nom à partir de son numéro de téléphone \n",
      "4- Imprimer la liste complète des téléphones \n",
      "Votre choix svp 3\n",
      "Veuillez entrer le numero du propriétaire à rechercher 61123580\n",
      "Le nom a été retrouver \n",
      "Le nom correspondant est : Dexiste\n"
     ]
    }
   ],
   "source": [
    "menu1()"
   ]
  },
  {
   "cell_type": "markdown",
   "id": "fa4e0564",
   "metadata": {},
   "source": [
    "**Question 3**"
   ]
  },
  {
   "cell_type": "code",
   "execution_count": null,
   "id": "433a2701",
   "metadata": {},
   "outputs": [],
   "source": []
  },
  {
   "cell_type": "markdown",
   "id": "be1ab269",
   "metadata": {},
   "source": [
    "**Question 4**"
   ]
  },
  {
   "cell_type": "code",
   "execution_count": 59,
   "id": "432a436e",
   "metadata": {},
   "outputs": [
    {
     "name": "stdout",
     "output_type": "stream",
     "text": [
      "La longueur du plus long mot est : 17\n"
     ]
    }
   ],
   "source": [
    "def find_longest_word(liste):\n",
    "    long = []\n",
    "    for i in liste:\n",
    "        long.append(len(i))\n",
    "    return max(long)\n",
    "lis = ['romain','Grantique','Branleromapatique']\n",
    "print(\"La longueur du plus long mot est :\",find_longest_word(lis))"
   ]
  },
  {
   "cell_type": "markdown",
   "id": "f81ea442",
   "metadata": {},
   "source": [
    "**Question 5**"
   ]
  },
  {
   "cell_type": "code",
   "execution_count": 63,
   "id": "d1be537c",
   "metadata": {},
   "outputs": [
    {
     "name": "stdout",
     "output_type": "stream",
     "text": [
      "god jul och gott nytt ar \n"
     ]
    }
   ],
   "source": [
    "def translate(phrase):\n",
    "    dico = {\"merry\":\"god\", \"christmas\":\"jul\", \"and\":\"och\", \"happy\":\"gott\", \"new\":\"nytt\", \"year\":\"ar\"}\n",
    "    traduction = \"\"\n",
    "    phrase_list = phrase.split(' ')\n",
    "    for i in phrase_list:\n",
    "        for j in dico:\n",
    "            if(i==j):\n",
    "                traduction += dico[j] +' '\n",
    "                break\n",
    "    return traduction\n",
    "\n",
    "print(translate(\"merry christmas and happy new year\"))\n",
    "        "
   ]
  },
  {
   "cell_type": "markdown",
   "id": "492a20f4",
   "metadata": {},
   "source": [
    "**Question 6**"
   ]
  },
  {
   "cell_type": "code",
   "execution_count": 66,
   "id": "9740d2f2",
   "metadata": {},
   "outputs": [
    {
     "data": {
      "text/plain": [
       "True"
      ]
     },
     "execution_count": 66,
     "metadata": {},
     "output_type": "execute_result"
    }
   ],
   "source": [
    "def is_member(x,li):\n",
    "    result = False\n",
    "    j = 0\n",
    "    while j < len(li):\n",
    "        if(x==li[j]):\n",
    "            result = True\n",
    "        j+=1\n",
    "    return result\n",
    "is_member(8,[8,96,'poi'])"
   ]
  },
  {
   "cell_type": "markdown",
   "id": "3205583a",
   "metadata": {},
   "source": [
    "**Question 7**"
   ]
  },
  {
   "cell_type": "code",
   "execution_count": 72,
   "id": "2b72b934",
   "metadata": {},
   "outputs": [
    {
     "name": "stdout",
     "output_type": "stream",
     "text": [
      "****\n",
      "*********\n",
      "*******\n"
     ]
    }
   ],
   "source": [
    "def histogram(l):\n",
    "    for i in l:\n",
    "        print(i*'*')\n",
    "histogram([4,9,7])"
   ]
  },
  {
   "cell_type": "markdown",
   "id": "7fdfbc37",
   "metadata": {},
   "source": [
    "**Question 8**"
   ]
  },
  {
   "cell_type": "code",
   "execution_count": null,
   "id": "36dcfe3d",
   "metadata": {},
   "outputs": [],
   "source": [
    "def ge():\n",
    "    Amour = {\"name\": \"Amour\",\"homework\": [90.0,97.0,75.0,92.0],\"quizzes\": [88.0,40.0,94.0],\"tests\": [75.0,90.0]}\n",
    "    Paix = {\"name\": \"Paix\",\"homework\": [100.0, 92.0, 98.0, 100.0],\"quizzes\": [82.0, 83.0, 91.0],\"tests\": [89.0, 97.0]}\n",
    "    Foi = {\"name\": \"Foi\",\"homework\": [0.0, 87.0, 75.0, 22.0],\"quizzes\": [0.0, 75.0, 78.0],\"tests\": [100.0, 100.0]}\n",
    "    etudiant = ['Amour','Paix','Foi']"
   ]
  }
 ],
 "metadata": {
  "kernelspec": {
   "display_name": "Python 3",
   "language": "python",
   "name": "python3"
  },
  "language_info": {
   "codemirror_mode": {
    "name": "ipython",
    "version": 3
   },
   "file_extension": ".py",
   "mimetype": "text/x-python",
   "name": "python",
   "nbconvert_exporter": "python",
   "pygments_lexer": "ipython3",
   "version": "3.8.5"
  }
 },
 "nbformat": 4,
 "nbformat_minor": 5
}
