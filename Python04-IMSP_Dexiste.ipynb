{
 "cells": [
  {
   "cell_type": "markdown",
   "id": "2eaffbc9",
   "metadata": {},
   "source": [
    "# <center> <b> <span style=\"color:green;font-family: 'Comic Sans Ms';font-style:italic\">Résultats du TP n°4\n",
    "</span> </b></center>\n"
   ]
  },
  {
   "cell_type": "markdown",
   "id": "24cfe968",
   "metadata": {},
   "source": [
    "**Question 1**"
   ]
  },
  {
   "cell_type": "code",
   "execution_count": 25,
   "id": "6a3f6ebe",
   "metadata": {},
   "outputs": [],
   "source": [
    "prod = {}\n",
    "def gerer_produit(action):\n",
    "    \"\"\"__Gerer les produits\"\"\"\n",
    "    \n",
    "    if(action==1):\n",
    "        produit = input(\"Veuillez entrer le nom du produit\")\n",
    "        prix = int(input(\"Veuillez entrer le prix\"))\n",
    "        prod.update({produit:prix})\n",
    "        print(\"Votre produit a été bien ajouter\")\n",
    "    elif(action==2):\n",
    "        produit = input(\"Veuillez entrer le nom du produit\")\n",
    "        prix = int(input(\"Veuillez entrer le prix\"))\n",
    "        prod[produit] = prix\n",
    "        print(\"Le prix de votre produit a été bien modifier\")\n",
    "    elif(action==3):\n",
    "        produit = input(\"Veuillez entrer le nom du produit\")\n",
    "        print(prod[produit])\n",
    "    else:\n",
    "        print(\"Veuillez vérifier votre choix. Je ne peux pas vous aider\")\n",
    "        menu()\n",
    "def menu():\n",
    "    print(\"1- Ajouter un produit et son prix \")\n",
    "    print(\"2- Modifier le prix d'un produit \")\n",
    "    print(\"3- Consulter le prix d'un produit \")\n",
    "    choix = int(input(\"Votre choix svp \"))\n",
    "    return gerer_produit(choix)\n",
    "    \n",
    "    "
   ]
  },
  {
   "cell_type": "code",
   "execution_count": 28,
   "id": "35587a00",
   "metadata": {},
   "outputs": [
    {
     "name": "stdout",
     "output_type": "stream",
     "text": [
      "1- Ajouter un produit et son prix \n",
      "2- Modifier le prix d'un produit \n",
      "3- Consulter le prix d'un produit \n",
      "Votre choix svp 4\n",
      "Veuillez vérifier votre choix. Je ne peux pas vous aider\n",
      "1- Ajouter un produit et son prix \n",
      "2- Modifier le prix d'un produit \n",
      "3- Consulter le prix d'un produit \n",
      "Votre choix svp 2\n",
      "Veuillez entrer le nom du produitBanane\n",
      "Veuillez entrer le prix900\n",
      "Le prix de votre produit a été bien modifier\n",
      "{'Banane': 900}\n"
     ]
    }
   ],
   "source": [
    "menu()\n",
    "print(prod)"
   ]
  },
  {
   "cell_type": "markdown",
   "id": "5af8e241",
   "metadata": {},
   "source": [
    "**Question 2**"
   ]
  },
  {
   "cell_type": "code",
   "execution_count": 46,
   "id": "fafbb986",
   "metadata": {},
   "outputs": [],
   "source": [
    "def menu1():\n",
    "    print(\"1- Ajouter un nouveau nom et son numero de téléphone \")\n",
    "    print(\"2- Rechercher un numéro de téléphone à partir de son nom \")\n",
    "    print(\"3- Rechercher un nom à partir de son numéro de téléphone \")\n",
    "    print(\"4- Imprimer la liste complète des téléphones \")\n",
    "    choix = int(input(\"Votre choix svp \"))\n",
    "    return gerer_telephone(choix)\n",
    "tel = {}\n",
    "def gerer_telephone(action):\n",
    "    \"\"\"__Gerer les produits\"\"\"\n",
    "    \n",
    "    if(action==1):\n",
    "        nom = input(\"Veuillez entrer le nom \")\n",
    "        numero = int(input(\"Veuillez entrer le numéro \"))\n",
    "        tel.update({nom:numero})\n",
    "        print(\"Enregistrement effectuer avec succès\")\n",
    "    elif(action==2):\n",
    "        nom = input(\"Veuillez entrer le nom du propriétaire à rechercher \")\n",
    "        for i in tel:\n",
    "            if(i==nom):\n",
    "                print(\"Le numero a été retrouver \")\n",
    "                print(\"Le numero correspondant est :\",tel[i])\n",
    "                \n",
    "    elif(action==3):\n",
    "        numero = int(input(\"Veuillez entrer le numero du propriétaire à rechercher \"))\n",
    "        for i in tel:\n",
    "            if(tel[i]==numero):\n",
    "                print(\"Le nom a été retrouver \")\n",
    "                print(\"Le nom correspondant est :\",i)\n",
    "    elif(action==4):\n",
    "        for x, y in tel.items():\n",
    "            print(x, y)\n",
    "    else:\n",
    "        print(\"Veuillez vérifier votre choix. Je ne peux pas vous aider\")\n",
    "        menu()"
   ]
  },
  {
   "cell_type": "code",
   "execution_count": 56,
   "id": "b0dc956c",
   "metadata": {},
   "outputs": [
    {
     "name": "stdout",
     "output_type": "stream",
     "text": [
      "1- Ajouter un nouveau nom et son numero de téléphone \n",
      "2- Rechercher un numéro de téléphone à partir de son nom \n",
      "3- Rechercher un nom à partir de son numéro de téléphone \n",
      "4- Imprimer la liste complète des téléphones \n",
      "Votre choix svp 3\n",
      "Veuillez entrer le numero du propriétaire à rechercher 61123580\n",
      "Le nom a été retrouver \n",
      "Le nom correspondant est : Dexiste\n"
     ]
    }
   ],
   "source": [
    "menu1()"
   ]
  },
  {
   "cell_type": "markdown",
   "id": "9f80d4a5",
   "metadata": {},
   "source": [
    "**Question 3**"
   ]
  },
  {
   "cell_type": "code",
   "execution_count": null,
   "id": "fdac84f2",
   "metadata": {},
   "outputs": [],
   "source": []
  },
  {
   "cell_type": "markdown",
   "id": "2bfed11d",
   "metadata": {},
   "source": [
    "**Question 4**"
   ]
  },
  {
   "cell_type": "code",
   "execution_count": 59,
   "id": "79dc466b",
   "metadata": {},
   "outputs": [
    {
     "name": "stdout",
     "output_type": "stream",
     "text": [
      "La longueur du plus long mot est : 17\n"
     ]
    }
   ],
   "source": [
    "def find_longest_word(liste):\n",
    "    long = []\n",
    "    for i in liste:\n",
    "        long.append(len(i))\n",
    "    return max(long)\n",
    "lis = ['romain','Grantique','Branleromapatique']\n",
    "print(\"La longueur du plus long mot est :\",find_longest_word(lis))"
   ]
  },
  {
   "cell_type": "markdown",
   "id": "3ab4572e",
   "metadata": {},
   "source": [
    "**Question 5**"
   ]
  },
  {
   "cell_type": "code",
   "execution_count": 63,
   "id": "d0f23969",
   "metadata": {},
   "outputs": [
    {
     "name": "stdout",
     "output_type": "stream",
     "text": [
      "god jul och gott nytt ar \n"
     ]
    }
   ],
   "source": [
    "def translate(phrase):\n",
    "    dico = {\"merry\":\"god\", \"christmas\":\"jul\", \"and\":\"och\", \"happy\":\"gott\", \"new\":\"nytt\", \"year\":\"ar\"}\n",
    "    traduction = \"\"\n",
    "    phrase_list = phrase.split(' ')\n",
    "    for i in phrase_list:\n",
    "        for j in dico:\n",
    "            if(i==j):\n",
    "                traduction += dico[j] +' '\n",
    "                break\n",
    "    return traduction\n",
    "\n",
    "print(translate(\"merry christmas and happy new year\"))\n",
    "        "
   ]
  },
  {
   "cell_type": "markdown",
   "id": "58f5d32e",
   "metadata": {},
   "source": [
    "**Question 6**"
   ]
  },
  {
   "cell_type": "code",
   "execution_count": 66,
   "id": "13d1012a",
   "metadata": {},
   "outputs": [
    {
     "data": {
      "text/plain": [
       "True"
      ]
     },
     "execution_count": 66,
     "metadata": {},
     "output_type": "execute_result"
    }
   ],
   "source": [
    "def is_member(x,li):\n",
    "    result = False\n",
    "    j = 0\n",
    "    while j < len(li):\n",
    "        if(x==li[j]):\n",
    "            result = True\n",
    "        j+=1\n",
    "    return result\n",
    "is_member(8,[8,96,'poi'])"
   ]
  },
  {
   "cell_type": "markdown",
   "id": "ff0ee622",
   "metadata": {},
   "source": [
    "**Question 7**"
   ]
  },
  {
   "cell_type": "code",
   "execution_count": 72,
   "id": "10c8a22c",
   "metadata": {},
   "outputs": [
    {
     "name": "stdout",
     "output_type": "stream",
     "text": [
      "****\n",
      "*********\n",
      "*******\n"
     ]
    }
   ],
   "source": [
    "def histogram(l):\n",
    "    for i in l:\n",
    "        print(i*'*')\n",
    "histogram([4,9,7])"
   ]
  },
  {
   "cell_type": "markdown",
   "id": "e26c2b6a",
   "metadata": {},
   "source": [
    "**Question 8**"
   ]
  },
  {
   "cell_type": "code",
   "execution_count": 74,
   "id": "25d91bdf",
   "metadata": {},
   "outputs": [
    {
     "ename": "AttributeError",
     "evalue": "'str' object has no attribute 'items'",
     "output_type": "error",
     "traceback": [
      "\u001b[0;31m----------------------------------------------------------------------\u001b[0m",
      "\u001b[0;31mAttributeError\u001b[0m                       Traceback (most recent call last)",
      "\u001b[0;32m<ipython-input-74-ceb36cb5a5f9>\u001b[0m in \u001b[0;36m<module>\u001b[0;34m\u001b[0m\n\u001b[1;32m      7\u001b[0m         \u001b[0;32mfor\u001b[0m \u001b[0mx\u001b[0m\u001b[0;34m,\u001b[0m \u001b[0my\u001b[0m \u001b[0;32min\u001b[0m \u001b[0mi\u001b[0m\u001b[0;34m.\u001b[0m\u001b[0mitems\u001b[0m\u001b[0;34m(\u001b[0m\u001b[0;34m)\u001b[0m\u001b[0;34m:\u001b[0m\u001b[0;34m\u001b[0m\u001b[0;34m\u001b[0m\u001b[0m\n\u001b[1;32m      8\u001b[0m             \u001b[0mprint\u001b[0m\u001b[0;34m(\u001b[0m\u001b[0mx\u001b[0m\u001b[0;34m,\u001b[0m \u001b[0my\u001b[0m\u001b[0;34m)\u001b[0m\u001b[0;34m\u001b[0m\u001b[0;34m\u001b[0m\u001b[0m\n\u001b[0;32m----> 9\u001b[0;31m \u001b[0mge\u001b[0m\u001b[0;34m(\u001b[0m\u001b[0;34m)\u001b[0m\u001b[0;34m\u001b[0m\u001b[0;34m\u001b[0m\u001b[0m\n\u001b[0m",
      "\u001b[0;32m<ipython-input-74-ceb36cb5a5f9>\u001b[0m in \u001b[0;36mge\u001b[0;34m()\u001b[0m\n\u001b[1;32m      5\u001b[0m     \u001b[0metudiant\u001b[0m \u001b[0;34m=\u001b[0m \u001b[0;34m[\u001b[0m\u001b[0;34m'Amour'\u001b[0m\u001b[0;34m,\u001b[0m\u001b[0;34m'Paix'\u001b[0m\u001b[0;34m,\u001b[0m\u001b[0;34m'Foi'\u001b[0m\u001b[0;34m]\u001b[0m\u001b[0;34m\u001b[0m\u001b[0;34m\u001b[0m\u001b[0m\n\u001b[1;32m      6\u001b[0m     \u001b[0;32mfor\u001b[0m \u001b[0mi\u001b[0m \u001b[0;32min\u001b[0m \u001b[0metudiant\u001b[0m\u001b[0;34m:\u001b[0m\u001b[0;34m\u001b[0m\u001b[0;34m\u001b[0m\u001b[0m\n\u001b[0;32m----> 7\u001b[0;31m         \u001b[0;32mfor\u001b[0m \u001b[0mx\u001b[0m\u001b[0;34m,\u001b[0m \u001b[0my\u001b[0m \u001b[0;32min\u001b[0m \u001b[0mi\u001b[0m\u001b[0;34m.\u001b[0m\u001b[0mitems\u001b[0m\u001b[0;34m(\u001b[0m\u001b[0;34m)\u001b[0m\u001b[0;34m:\u001b[0m\u001b[0;34m\u001b[0m\u001b[0;34m\u001b[0m\u001b[0m\n\u001b[0m\u001b[1;32m      8\u001b[0m             \u001b[0mprint\u001b[0m\u001b[0;34m(\u001b[0m\u001b[0mx\u001b[0m\u001b[0;34m,\u001b[0m \u001b[0my\u001b[0m\u001b[0;34m)\u001b[0m\u001b[0;34m\u001b[0m\u001b[0;34m\u001b[0m\u001b[0m\n\u001b[1;32m      9\u001b[0m \u001b[0mge\u001b[0m\u001b[0;34m(\u001b[0m\u001b[0;34m)\u001b[0m\u001b[0;34m\u001b[0m\u001b[0;34m\u001b[0m\u001b[0m\n",
      "\u001b[0;31mAttributeError\u001b[0m: 'str' object has no attribute 'items'"
     ]
    }
   ],
   "source": [
    "def ge():\n",
    "    Amour = {\"name\": \"Amour\",\"homework\": [90.0,97.0,75.0,92.0],\"quizzes\": [88.0,40.0,94.0],\"tests\": [75.0,90.0]}\n",
    "    Paix = {\"name\": \"Paix\",\"homework\": [100.0, 92.0, 98.0, 100.0],\"quizzes\": [82.0, 83.0, 91.0],\"tests\": [89.0, 97.0]}\n",
    "    Foi = {\"name\": \"Foi\",\"homework\": [0.0, 87.0, 75.0, 22.0],\"quizzes\": [0.0, 75.0, 78.0],\"tests\": [100.0, 100.0]}\n",
    "    etudiant = [Amour,Paix,Foi']\n",
    "    for i in etudiant:\n",
    "        for x, y in i.items():\n",
    "            print(x, y)\n",
    "ge()"
   ]
  }
 ],
 "metadata": {
  "kernelspec": {
   "display_name": "Python 3",
   "language": "python",
   "name": "python3"
  },
  "language_info": {
   "codemirror_mode": {
    "name": "ipython",
    "version": 3
   },
   "file_extension": ".py",
   "mimetype": "text/x-python",
   "name": "python",
   "nbconvert_exporter": "python",
   "pygments_lexer": "ipython3",
   "version": "3.8.5"
  }
 },
 "nbformat": 4,
 "nbformat_minor": 5
}
