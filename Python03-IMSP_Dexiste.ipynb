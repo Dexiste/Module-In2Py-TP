{
 "cells": [
  {
   "cell_type": "markdown",
   "id": "2f1cd5f5",
   "metadata": {},
   "source": [
    "# <center> <b> <span style=\"color:green;font-family: 'Comic Sans Ms';font-style:italic\">Résultats du TP n°3 </span> </b></center>\n"
   ]
  },
  {
   "cell_type": "markdown",
   "id": "ffe25788",
   "metadata": {},
   "source": [
    "**Question 1**"
   ]
  },
  {
   "cell_type": "markdown",
   "id": "6209518a",
   "metadata": {},
   "source": [
    "**a) et b)**"
   ]
  },
  {
   "cell_type": "code",
   "execution_count": 3,
   "id": "fc23e8be",
   "metadata": {},
   "outputs": [],
   "source": [
    "#Foncion permettant de fusionner deux chaine de caratères préalablemnt trié\n",
    "def M(a,b):\n",
    "    \"\"\"__Foncion permettant de fusionner deux chaine de caratères préalablemnt trié__\"\"\"\n",
    "    M1 = []\n",
    "    M2 = []\n",
    "    for i in a:\n",
    "        M1.append(i)\n",
    "    for i in b:\n",
    "        M2.append(i)\n",
    "        \n",
    "    for i in range(len(M1)):\n",
    "        \n",
    "        for j in range(len(M2)):\n",
    "            if(j!=len(M2)-1):\n",
    "                if(M1[i] <= M2[j]):\n",
    "                    M2.insert(j,M1[i])\n",
    "                    break\n",
    "            else:\n",
    "                if(M1[i] <= M2[j]):\n",
    "                    M2.insert(j,M1[i])\n",
    "                    break\n",
    "                else:\n",
    "                    M2.append(M1[i])\n",
    "                \n",
    "    result =''.join(M2)\n",
    "    \n",
    "    return result\n",
    "        "
   ]
  },
  {
   "cell_type": "code",
   "execution_count": 9,
   "id": "27a74d20",
   "metadata": {},
   "outputs": [
    {
     "name": "stdout",
     "output_type": "stream",
     "text": [
      "Entrer deux chaines de caractère\n",
      "1ère chaine addez\n",
      "2ème chaine asz\n",
      "aaddeszz\n"
     ]
    }
   ],
   "source": [
    "#Essai\n",
    "\n",
    "print(\"Entrer deux chaines de caractère\")\n",
    "chaine1 = input(\"1ère chaine \")\n",
    "chaine2 = input(\"2ème chaine \")\n",
    "print(M(chaine1, chaine2))"
   ]
  },
  {
   "cell_type": "markdown",
   "id": "2cccc4ce",
   "metadata": {},
   "source": [
    "**Question c**"
   ]
  },
  {
   "cell_type": "code",
   "execution_count": 4,
   "id": "39aafca2",
   "metadata": {},
   "outputs": [],
   "source": [
    "#Trier une chaine de caractère prie en argument\n",
    "def S(a):\n",
    "    \"\"\"__Trier une chaine de caractère prie en argument__\"\"\"\n",
    "    M_1 = []\n",
    "    M_2 = []\n",
    "    M_3 = []\n",
    "    for i in a:\n",
    "        M_1.append(i)\n",
    "    j=0\n",
    "    while j < (int(len(M_1)/2)):\n",
    "        M_2.append(M_1[j])\n",
    "        j+=1\n",
    "    i = int(len(M_1)/2)\n",
    "    while i < len(M_1):\n",
    "        M_3.append(M_1[i])\n",
    "        i +=1 \n",
    "    M_2.sort()\n",
    "    M_3.sort()\n",
    "    ch1 = ''.join(M_2)\n",
    "    ch2 = ''.join(M_3)\n",
    "    return M(ch1,ch2)\n",
    "        "
   ]
  },
  {
   "cell_type": "code",
   "execution_count": 5,
   "id": "54f9d196",
   "metadata": {},
   "outputs": [
    {
     "name": "stdout",
     "output_type": "stream",
     "text": [
      "Entrer une chaine de caractère\n",
      "Votre Chaine poegbqezamz\n",
      "abeegmopqzz\n"
     ]
    }
   ],
   "source": [
    "#Essai\n",
    "print(\"Entrer une chaine de caractère\")\n",
    "chaine = input(\"Votre Chaine \")\n",
    "print(S(chaine))"
   ]
  },
  {
   "cell_type": "markdown",
   "id": "89d80c27",
   "metadata": {},
   "source": [
    "**Question d)**"
   ]
  },
  {
   "cell_type": "code",
   "execution_count": 21,
   "id": "2df547ce",
   "metadata": {},
   "outputs": [],
   "source": [
    "#Deuxième forme de M\n",
    "def M_mod(a,b):\n",
    "    \"\"\"__Deuxième forme de M__\"\"\"\n",
    "    return M(S(a),S(b))"
   ]
  },
  {
   "cell_type": "code",
   "execution_count": 25,
   "id": "eea42f0c",
   "metadata": {},
   "outputs": [
    {
     "data": {
      "text/plain": [
       "'adjnoorsuu'"
      ]
     },
     "execution_count": 25,
     "metadata": {},
     "output_type": "execute_result"
    }
   ],
   "source": [
    "M_mod(\"jour\",\"dansou\")"
   ]
  },
  {
   "cell_type": "markdown",
   "id": "5f6e7c35",
   "metadata": {},
   "source": [
    "**Question e)**"
   ]
  },
  {
   "cell_type": "markdown",
   "id": "09d098c7",
   "metadata": {},
   "source": [
    "**i)**"
   ]
  },
  {
   "cell_type": "code",
   "execution_count": 2,
   "id": "365aec87",
   "metadata": {},
   "outputs": [
    {
     "data": {
      "text/plain": [
       "'e'"
      ]
     },
     "execution_count": 2,
     "metadata": {},
     "output_type": "execute_result"
    }
   ],
   "source": [
    "#Retrouver le premier voyelle d'une chaine de caractère\n",
    "def voyelle(ch):\n",
    "    \n",
    "    \"\"\"__Retrouver le premier voyelle d'une chaine de caractère__\"\"\"\n",
    "    \n",
    "    Voy = \"aAeEiIoOuUyY\"\n",
    "    for i in ch:\n",
    "        if(i in Voy):\n",
    "            vo = i\n",
    "            break\n",
    "    return vo\n",
    "\n",
    "voyelle(\"Dexiste est au travaille\")"
   ]
  },
  {
   "cell_type": "markdown",
   "id": "610e5365",
   "metadata": {},
   "source": [
    "**ii)**"
   ]
  },
  {
   "cell_type": "code",
   "execution_count": 109,
   "id": "676809e0",
   "metadata": {},
   "outputs": [],
   "source": [
    "#Reconnaitre une chaine de caractère\n",
    "def isvoy(c):\n",
    "    \n",
    "    \"\"\"__Reconnaitre une chaine de caractère__\"\"\"\n",
    "    Voy = \"aAeEiIoOuUyY\"\n",
    "    vo = 0\n",
    "    if(c in Voy):\n",
    "        vo = 1\n",
    "    return vo\n",
    "\n",
    "#Compter le nombre de voyelle présent dans une chaine de caractère\n",
    "def compt(ch):\n",
    "    \n",
    "    \"\"\"__Compter le nombre de voyelle présent dans une chaine de caractère__\"\"\"\n",
    "    comp = 0\n",
    "    for i in ch:\n",
    "        if(isvoy(i)==1):\n",
    "            comp += 1\n",
    "    return comp\n"
   ]
  },
  {
   "cell_type": "code",
   "execution_count": 116,
   "id": "34ae2e6d",
   "metadata": {},
   "outputs": [
    {
     "name": "stdout",
     "output_type": "stream",
     "text": [
      "Entrer une chaine de caractère dexiste\n",
      "Le nombre de voyelle présente dans  dexiste  est:  3\n"
     ]
    }
   ],
   "source": [
    "#Essai\n",
    "ph = input(\"Entrer une chaine de caractère \")\n",
    "print(\"Le nombre de voyelle présente dans \", ph, \" est: \", compt(ph))"
   ]
  },
  {
   "cell_type": "markdown",
   "id": "9a10d8f7",
   "metadata": {},
   "source": [
    "**iii)**"
   ]
  },
  {
   "cell_type": "code",
   "execution_count": 123,
   "id": "1ae821b3",
   "metadata": {},
   "outputs": [],
   "source": [
    "#Transformer une chaine de caractère en majuscule et s'arrete dès qu'il rencontre une chiffre\n",
    "def maj(caract):\n",
    "    \n",
    "    \"\"\"__Transformer une chaine de caractère en majuscule et s'arrete dès qu'il rencontre une chiffre__\"\"\"\n",
    "    test = 0\n",
    "    res = ''\n",
    "    chiffre = '0123456789'\n",
    "    for i in caract:\n",
    "        if(i in chiffre):\n",
    "            test = 1;\n",
    "            break\n",
    "        res += i.upper()\n",
    "    return res"
   ]
  },
  {
   "cell_type": "code",
   "execution_count": 128,
   "id": "aa7dad9a",
   "metadata": {},
   "outputs": [
    {
     "data": {
      "text/plain": [
       "'DEXITE'"
      ]
     },
     "execution_count": 128,
     "metadata": {},
     "output_type": "execute_result"
    }
   ],
   "source": [
    "#Essai\n",
    "maj(\"dexiTe5hounsa\")"
   ]
  },
  {
   "cell_type": "markdown",
   "id": "e9987a62",
   "metadata": {},
   "source": [
    "**iv)**"
   ]
  },
  {
   "cell_type": "code",
   "execution_count": 173,
   "id": "5341a369",
   "metadata": {},
   "outputs": [],
   "source": [
    "#Compte le nombre de voyelle présente dans une chaine de caractère\n",
    "def comp_voy(a):\n",
    "    \"\"\"__Compte le nombre de voyelle présente dans une chaine de caractère__\"\"\"\n",
    "    compt = {'A':0,'E':0,'I':0,'O':0,'U':0,'Y':0,}\n",
    "    for i in a:\n",
    "        if(isvoy(i)):\n",
    "            if i == 'A':\n",
    "                compt['A']+=1\n",
    "            elif i == 'E':\n",
    "                compt['E']+=1\n",
    "            elif i == 'U':\n",
    "                compt['U']+=1\n",
    "            elif i == 'O':\n",
    "                compt['O']+=1\n",
    "            elif i == 'U':\n",
    "                compt['U']+=1\n",
    "            elif i == 'Y':\n",
    "                compt['Y']+=1\n",
    "    print(\"Nombre de voyelle 'A': \", compt['A'])\n",
    "    print(\"Nombre de voyelle 'E': \", compt['E'])\n",
    "    print(\"Nombre de voyelle 'I': \", compt['I'])\n",
    "    print(\"Nombre de voyelle 'O': \", compt['O'])\n",
    "    print(\"Nombre de voyelle 'U': \", compt['U'])\n",
    "    print(\"Nombre de voyelle 'Y': \", compt['Y'])\n",
    "        "
   ]
  },
  {
   "cell_type": "code",
   "execution_count": 174,
   "id": "76ec3ca6",
   "metadata": {},
   "outputs": [
    {
     "name": "stdout",
     "output_type": "stream",
     "text": [
      "Entrer une chaine de caractère Je travaille \n",
      "Nombre de voyelle 'A':  2\n",
      "Nombre de voyelle 'E':  2\n",
      "Nombre de voyelle 'I':  0\n",
      "Nombre de voyelle 'O':  0\n",
      "Nombre de voyelle 'U':  0\n",
      "Nombre de voyelle 'Y':  0\n"
     ]
    }
   ],
   "source": [
    "#Essai\n",
    "phrase = input(\"Entrer une chaine de caractère \")\n",
    "comp_voy(maj(phrase))"
   ]
  },
  {
   "cell_type": "markdown",
   "id": "21e55c1f",
   "metadata": {},
   "source": [
    "**v)**"
   ]
  },
  {
   "cell_type": "code",
   "execution_count": 171,
   "id": "cd818443",
   "metadata": {},
   "outputs": [],
   "source": [
    "#Reconnaitre les lettres 'b' et 'c' dans une chaine de caractère\n",
    "def reconnaitre_bc(cha):\n",
    "    \"\"\"__Reconnaitre les lettres 'b' et 'c' dans une chaine de caractère__\"\"\"\n",
    "    con = \"bBcC\"\n",
    "    v = 0\n",
    "    if(cha in con):\n",
    "        v = 1\n",
    "    return v\n",
    "\n",
    "#Compter le nombre de fois les lettres 'b' et 'c' sont présent dans une chaine de caractère\n",
    "def compt_bc(ch):\n",
    "    \"\"\"__Compter le nombre de fois les lettres 'b' et 'c' sont présent dans une chaine de caractère\n",
    "__\"\"\"\n",
    "    com = {'B':0, 'C':0}\n",
    "    for i in ch:\n",
    "        if reconnaitre_bc(i):\n",
    "            if i == 'B' or i == 'b':\n",
    "                com['B']+=1\n",
    "            elif i == 'C' or i == 'c':\n",
    "                com['C']+=1\n",
    "    print(\"Nombre de voyelle 'b': \", com['B'])\n",
    "    print(\"Nombre de voyelle 'c': \", com['C'])"
   ]
  },
  {
   "cell_type": "code",
   "execution_count": 314,
   "id": "de67f050",
   "metadata": {},
   "outputs": [
    {
     "name": "stdout",
     "output_type": "stream",
     "text": [
      "Entrer une chaine de caractère Bonjour collegue\n",
      "Nombre de voyelle 'b':  1\n",
      "Nombre de voyelle 'c':  1\n"
     ]
    }
   ],
   "source": [
    "#Essai\n",
    "phrase = input(\"Entrer une chaine de caractère \")\n",
    "compt_bc(phrase)"
   ]
  },
  {
   "cell_type": "markdown",
   "id": "f35e2b91",
   "metadata": {},
   "source": [
    "**vi)**"
   ]
  },
  {
   "cell_type": "code",
   "execution_count": 312,
   "id": "70a49127",
   "metadata": {},
   "outputs": [
    {
     "name": "stdout",
     "output_type": "stream",
     "text": [
      "Bonjour Chers Elus \n"
     ]
    }
   ],
   "source": [
    "#Transformer les premières lettres de chaque mots d'une phrase en majuscule\n",
    "def premier_maj(cpa):\n",
    "    \"\"\"__Transformer les premières lettres de chaque mots d'une phrase en majuscule__\"\"\"\n",
    "    a = cpa.split(' ')\n",
    "    re = ''\n",
    "    for i in a:\n",
    "        for j in range(len(i)):\n",
    "            if j==0:   \n",
    "                re += maj(i[j])\n",
    "                continue\n",
    "            re += i[j]\n",
    "            if j==(len(i)-1):\n",
    "                re += ' '\n",
    "            \n",
    "            \n",
    "    return re\n",
    "print(premier_maj(\"Bonjour chers elus\"))"
   ]
  },
  {
   "cell_type": "markdown",
   "id": "6ad10f98",
   "metadata": {},
   "source": [
    "**vii)**"
   ]
  },
  {
   "cell_type": "code",
   "execution_count": 349,
   "id": "7928743a",
   "metadata": {},
   "outputs": [],
   "source": [
    "#Dit si un mot est un palindrome ou pas\n",
    "def palindrome(df):\n",
    "    \"\"\"__Dit si un mot est un palindrome ou pas__\"\"\"\n",
    "    M9 = []\n",
    "    for i in df:\n",
    "        M9.append(i)\n",
    "    mot_init = df\n",
    "    M9.reverse()\n",
    "    M9 = ''.join(M9)\n",
    "    if M9 == df:\n",
    "        print(\"Le mot \", df, \" est un palindrome\")\n",
    "    else:\n",
    "        print(\"Le mot \", df, \" n'est pas un palindrome\")"
   ]
  },
  {
   "cell_type": "code",
   "execution_count": 351,
   "id": "009b8979",
   "metadata": {},
   "outputs": [
    {
     "name": "stdout",
     "output_type": "stream",
     "text": [
      "Le mot  anna  est un palindrome\n"
     ]
    }
   ],
   "source": [
    "#Essai\n",
    "palindrome(\"anna\")"
   ]
  },
  {
   "cell_type": "markdown",
   "id": "1b60d302",
   "metadata": {},
   "source": [
    "**viii)**"
   ]
  },
  {
   "cell_type": "code",
   "execution_count": 356,
   "id": "e59c1e37",
   "metadata": {},
   "outputs": [],
   "source": [
    "#Rechercher un mot dans un texte\n",
    "def recherche(texte,mot):\n",
    "    \"\"\"__Rechercher un mot dans un texte__\"\"\"\n",
    "    c = 0\n",
    "    tex = texte.split(' ')\n",
    "    for i in tex:\n",
    "        if i == mot:\n",
    "            c +=1\n",
    "    return c"
   ]
  },
  {
   "cell_type": "code",
   "execution_count": 357,
   "id": "a0238dd0",
   "metadata": {},
   "outputs": [
    {
     "name": "stdout",
     "output_type": "stream",
     "text": [
      "2\n"
     ]
    }
   ],
   "source": [
    "#Essai\n",
    "print(recherche(\"Je suis en cours. Je ne peux pas venu à la maison maintenant\",\"Je\"))"
   ]
  },
  {
   "cell_type": "markdown",
   "id": "c2a759a9",
   "metadata": {},
   "source": [
    "**Question f)**"
   ]
  },
  {
   "cell_type": "code",
   "execution_count": 382,
   "id": "722e83f2",
   "metadata": {},
   "outputs": [
    {
     "name": "stdout",
     "output_type": "stream",
     "text": [
      "Le score le plus bas possible est  1  et le score le plus élevé possible est  10\n"
     ]
    }
   ],
   "source": [
    "#Renvoie le min et le max d'un socore stocker dans une tuple\n",
    "def socoreMaxMin():\n",
    "    \"\"\"__Renvoie le min et le max d'un socore stocker dans une tuple__\"\"\"\n",
    "    score = tuple(range(1,11))\n",
    "    ma = max(tuple(range(1,11)))\n",
    "    mi = min(tuple(range(1,11)))\n",
    "    return print(\"Le score le plus bas possible est \",mi ,\" et le score le plus élevé possible est \",ma)\n",
    "\n",
    "socoreMaxMin()"
   ]
  },
  {
   "cell_type": "code",
   "execution_count": 399,
   "id": "9871f259",
   "metadata": {},
   "outputs": [
    {
     "name": "stdout",
     "output_type": "stream",
     "text": [
      "« un juge peut donner à un gymnaste  1  point »\n",
      "« un juge peut donner à un gymnaste  2  point »\n",
      "« un juge peut donner à un gymnaste  3  point »\n",
      "« un juge peut donner à un gymnaste  4  point »\n",
      "« un juge peut donner à un gymnaste  5  point »\n",
      "« un juge peut donner à un gymnaste  6  point »\n",
      "« un juge peut donner à un gymnaste  7  point »\n",
      "« un juge peut donner à un gymnaste  8  point »\n",
      "« un juge peut donner à un gymnaste  9  point »\n",
      "« un juge peut donner à un gymnaste  10  point »\n"
     ]
    }
   ],
   "source": [
    "#Afficher une série de phrase\n",
    "def serie():\n",
    "    \"\"\"__Afficher une série de phrase__\"\"\"\n",
    "    score1 = tuple(range(10))\n",
    "    for i in score1:\n",
    "        print(\"« un juge peut donner à un gymnaste \", score1[i]+1, \" point »\")\n",
    "serie()"
   ]
  }
 ],
 "metadata": {
  "kernelspec": {
   "display_name": "Python 3",
   "language": "python",
   "name": "python3"
  },
  "language_info": {
   "codemirror_mode": {
    "name": "ipython",
    "version": 3
   },
   "file_extension": ".py",
   "mimetype": "text/x-python",
   "name": "python",
   "nbconvert_exporter": "python",
   "pygments_lexer": "ipython3",
   "version": "3.8.5"
  }
 },
 "nbformat": 4,
 "nbformat_minor": 5
}
