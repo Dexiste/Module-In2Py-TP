{
 "cells": [
  {
   "cell_type": "markdown",
   "id": "5432aad1",
   "metadata": {},
   "source": [
    "# Résultats du TP °01"
   ]
  },
  {
   "cell_type": "markdown",
   "id": "858ab348",
   "metadata": {},
   "source": [
    "## 1- Sommation et Produit"
   ]
  },
  {
   "cell_type": "markdown",
   "id": "637dc048",
   "metadata": {},
   "source": [
    "**Question 1**"
   ]
  },
  {
   "cell_type": "markdown",
   "id": "df1daf30",
   "metadata": {},
   "source": [
    "**(i)**"
   ]
  },
  {
   "cell_type": "code",
   "execution_count": 13,
   "id": "1e26dc3c",
   "metadata": {},
   "outputs": [
    {
     "name": "stdout",
     "output_type": "stream",
     "text": [
      "Résultat de la somme:  28\n"
     ]
    }
   ],
   "source": [
    "n = 10\n",
    "somme = 0\n",
    "for i in range(n-1):\n",
    "    if (i%2==1):\n",
    "        somme += (i+3)\n",
    "print('Résultat de la somme: ',somme)"
   ]
  },
  {
   "cell_type": "markdown",
   "id": "17948e7b",
   "metadata": {},
   "source": [
    "**(ii)**"
   ]
  },
  {
   "cell_type": "code",
   "execution_count": 15,
   "id": "95ae4203",
   "metadata": {},
   "outputs": [
    {
     "name": "stdout",
     "output_type": "stream",
     "text": [
      "Résultat du produit:  19958400\n"
     ]
    }
   ],
   "source": [
    "n = 10\n",
    "produit = 1\n",
    "for i in range(n-1):\n",
    "    produit *= (i+3)\n",
    "print('Résultat du produit: ',produit)"
   ]
  },
  {
   "cell_type": "markdown",
   "id": "321d9a06",
   "metadata": {},
   "source": [
    "**Question 2**"
   ]
  },
  {
   "cell_type": "code",
   "execution_count": 28,
   "id": "6580a3b0",
   "metadata": {},
   "outputs": [
    {
     "name": "stdout",
     "output_type": "stream",
     "text": [
      "Lundi\n",
      "Mardi\n",
      "Mercredi\n",
      "Jeudi\n",
      "Vendredi\n",
      "Week-end\n",
      "Week-end\n"
     ]
    }
   ],
   "source": [
    "numero_Jour = range(0,7)\n",
    "\n",
    "nom_Jour_ouvrable = ['Lundi', 'Mardi', 'Mercredi', 'Jeudi', 'Vendredi']\n",
    "\n",
    "for j in numero_Jour:\n",
    "    if(j==0):\n",
    "        print(nom_Jour_ouvrable[j])\n",
    "    elif(j==1):\n",
    "        print(nom_Jour_ouvrable[j])\n",
    "    elif(j==2):\n",
    "        print(nom_Jour_ouvrable[j])\n",
    "    elif(j==3):\n",
    "        print(nom_Jour_ouvrable[j])\n",
    "    elif(j==4):\n",
    "        print(nom_Jour_ouvrable[j])\n",
    "    else:\n",
    "        print('Week-end')\n",
    "    \n"
   ]
  },
  {
   "cell_type": "markdown",
   "id": "e4ede8e9",
   "metadata": {},
   "source": [
    "**Question 3**"
   ]
  },
  {
   "cell_type": "code",
   "execution_count": 40,
   "id": "fc370480",
   "metadata": {},
   "outputs": [
    {
     "name": "stdout",
     "output_type": "stream",
     "text": [
      "31\n",
      "28\n",
      "31\n",
      "30\n",
      "31\n",
      "30\n",
      "31\n",
      "31\n",
      "30\n",
      "31\n",
      "30\n",
      "31\n"
     ]
    }
   ],
   "source": [
    "numero_mois = range(12)\n",
    "\n",
    "mois_et_jour = {'Janvier':31, 'Fevrier':28, 'Mars':31,'Avril':30, 'Mai':31, 'Juin':30, 'Juillet':31, 'Aout':31, 'Septembre':30, 'Octobre':31, 'Novembre':30, 'Decembre':31}\n",
    "\n",
    "autr=[28,30,31]\n",
    "\n",
    "for i in numero_mois:\n",
    "    if i==0:\n",
    "        print(mois_et_jour['Janvier'])\n",
    "    elif i==1:\n",
    "        print(mois_et_jour['Fevrier'])\n",
    "    elif i==2:\n",
    "        print(mois_et_jour['Mars'])\n",
    "    elif i==3:\n",
    "        print(mois_et_jour['Avril'])\n",
    "    elif i==4:\n",
    "        print(mois_et_jour['Mai'])\n",
    "    elif i==5:\n",
    "        print(mois_et_jour['Juin'])\n",
    "    elif i==6:\n",
    "        print(mois_et_jour['Juillet'])\n",
    "    elif i==7:\n",
    "        print(mois_et_jour['Aout'])\n",
    "    elif i==8:\n",
    "        print(mois_et_jour['Septembre'])\n",
    "    elif i==9:\n",
    "        print(mois_et_jour['Octobre'])\n",
    "    elif i==10:\n",
    "        print(mois_et_jour['Novembre'])\n",
    "    elif i==11:\n",
    "        print(mois_et_jour['Decembre'])\n",
    "  "
   ]
  },
  {
   "cell_type": "markdown",
   "id": "06108150",
   "metadata": {},
   "source": [
    "**Question 4**"
   ]
  },
  {
   "cell_type": "markdown",
   "id": "32269329",
   "metadata": {},
   "source": [
    "**1ère version**"
   ]
  },
  {
   "cell_type": "code",
   "execution_count": 42,
   "id": "da041159",
   "metadata": {},
   "outputs": [
    {
     "name": "stdout",
     "output_type": "stream",
     "text": [
      "Dexiste\n",
      "Dexiste\n",
      "Dexiste\n"
     ]
    }
   ],
   "source": [
    "nom = 'Dexiste'\n",
    "for i in range(3):\n",
    "    print(nom)"
   ]
  },
  {
   "cell_type": "markdown",
   "id": "87cdf844",
   "metadata": {},
   "source": [
    "**2ème version**"
   ]
  },
  {
   "cell_type": "code",
   "execution_count": 5,
   "id": "3d553f73",
   "metadata": {},
   "outputs": [
    {
     "name": "stdout",
     "output_type": "stream",
     "text": [
      "Dexiste\n",
      "Dexiste\n",
      "Dexiste\n"
     ]
    }
   ],
   "source": [
    "nom = 'Dexiste'\n",
    "i=1\n",
    "while i < 4:\n",
    "    print(nom)\n",
    "    i+=1"
   ]
  },
  {
   "cell_type": "markdown",
   "id": "31a7edc4",
   "metadata": {},
   "source": [
    "**Question 5**"
   ]
  },
  {
   "cell_type": "code",
   "execution_count": null,
   "id": "82d87208",
   "metadata": {},
   "outputs": [],
   "source": [
    "a_0=\n",
    "a_1=\n",
    "i=1\n",
    "while i <= n:\n",
    "    a_n=\n",
    "\n",
    "a_n+1=a_n+a_n-1"
   ]
  },
  {
   "cell_type": "markdown",
   "id": "bb20b524",
   "metadata": {},
   "source": [
    "**Question 6**"
   ]
  },
  {
   "cell_type": "code",
   "execution_count": null,
   "id": "73492305",
   "metadata": {},
   "outputs": [],
   "source": []
  },
  {
   "cell_type": "markdown",
   "id": "9c303170",
   "metadata": {},
   "source": [
    "**Questiion 7**"
   ]
  },
  {
   "cell_type": "markdown",
   "id": "2fd482b2",
   "metadata": {},
   "source": [
    "**a)**"
   ]
  },
  {
   "cell_type": "code",
   "execution_count": 9,
   "id": "5baef0de",
   "metadata": {},
   "outputs": [
    {
     "name": "stdout",
     "output_type": "stream",
     "text": [
      "Cette année ci est une année bissextile\n"
     ]
    }
   ],
   "source": [
    "anne = {'Janvier':31, 'Fevrier':28, 'Mars':31,'Avril':30, 'Mai':31, 'Juin':30, 'Juillet':31, 'Aout':31, 'Septembre':30, 'Octobre':31, 'Novembre':30, 'Decembre':31}\n",
    "\n",
    "if(anne['Fevrier']==29):\n",
    "    print(\"Cette année ci est une année bissextile\")\n",
    "else:\n",
    "    print(\"Cette année ci est une année bissextile\")"
   ]
  },
  {
   "cell_type": "markdown",
   "id": "ce9eda73",
   "metadata": {},
   "source": [
    "**b)**"
   ]
  },
  {
   "cell_type": "code",
   "execution_count": null,
   "id": "69782fa5",
   "metadata": {},
   "outputs": [],
   "source": []
  },
  {
   "cell_type": "markdown",
   "id": "ce96ff4a",
   "metadata": {},
   "source": [
    "**Question 8**"
   ]
  },
  {
   "cell_type": "markdown",
   "id": "1a51749e",
   "metadata": {},
   "source": [
    "**a)**"
   ]
  },
  {
   "cell_type": "markdown",
   "id": "46f6f20e",
   "metadata": {},
   "source": [
    "**1ère version**"
   ]
  },
  {
   "cell_type": "code",
   "execution_count": 20,
   "id": "b629e044",
   "metadata": {},
   "outputs": [
    {
     "name": "stdout",
     "output_type": "stream",
     "text": [
      "Résultat de la somme:  2470\n"
     ]
    }
   ],
   "source": [
    "n = 20\n",
    "somme = 0\n",
    "for i in range(1,n):\n",
    "    somme += (i**2)\n",
    "print('Résultat de la somme: ',somme)"
   ]
  },
  {
   "cell_type": "markdown",
   "id": "2fe95ae4",
   "metadata": {},
   "source": [
    "**2ème version**"
   ]
  },
  {
   "cell_type": "code",
   "execution_count": 25,
   "id": "2b656ea1",
   "metadata": {},
   "outputs": [
    {
     "name": "stdout",
     "output_type": "stream",
     "text": [
      "Résultat de la somme:  2470\n"
     ]
    }
   ],
   "source": [
    "n = 20\n",
    "somme = 0\n",
    "i=1\n",
    "while i < n:\n",
    "    somme += (i**2)\n",
    "    i+=1\n",
    "print('Résultat de la somme: ',somme)"
   ]
  },
  {
   "cell_type": "markdown",
   "id": "1d457443",
   "metadata": {},
   "source": [
    "**b)**"
   ]
  },
  {
   "cell_type": "code",
   "execution_count": null,
   "id": "62f5c1c4",
   "metadata": {},
   "outputs": [],
   "source": []
  },
  {
   "cell_type": "markdown",
   "id": "c78a98ea",
   "metadata": {},
   "source": [
    "**Question 9**"
   ]
  },
  {
   "cell_type": "markdown",
   "id": "c8c4c018",
   "metadata": {},
   "source": [
    "**a)**"
   ]
  },
  {
   "cell_type": "code",
   "execution_count": 35,
   "id": "e7ef2433",
   "metadata": {},
   "outputs": [
    {
     "name": "stdout",
     "output_type": "stream",
     "text": [
      "1\n",
      "2\n",
      "3\n",
      "4\n",
      "6\n",
      "12\n"
     ]
    }
   ],
   "source": [
    "n = 12\n",
    "\n",
    "i=1\n",
    "\n",
    "while i < 10:\n",
    "    res = n%i\n",
    "    if(res == 0):\n",
    "        print(i)\n",
    "    i+=1\n",
    "print(n)"
   ]
  },
  {
   "cell_type": "markdown",
   "id": "0689a5d8",
   "metadata": {},
   "source": [
    "**Question 10**"
   ]
  }
 ],
 "metadata": {
  "kernelspec": {
   "display_name": "Python 3",
   "language": "python",
   "name": "python3"
  },
  "language_info": {
   "codemirror_mode": {
    "name": "ipython",
    "version": 3
   },
   "file_extension": ".py",
   "mimetype": "text/x-python",
   "name": "python",
   "nbconvert_exporter": "python",
   "pygments_lexer": "ipython3",
   "version": "3.8.5"
  }
 },
 "nbformat": 4,
 "nbformat_minor": 5
}
