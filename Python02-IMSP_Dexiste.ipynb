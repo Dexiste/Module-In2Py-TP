{
 "cells": [
  {
   "cell_type": "markdown",
   "id": "68dd4fe6",
   "metadata": {},
   "source": [
    "## RENDU DU TP 2"
   ]
  },
  {
   "cell_type": "markdown",
   "id": "25faa671",
   "metadata": {},
   "source": [
    "**Question 1**"
   ]
  },
  {
   "cell_type": "code",
   "execution_count": 6,
   "id": "4cc15b11",
   "metadata": {},
   "outputs": [
    {
     "name": "stdout",
     "output_type": "stream",
     "text": [
      "Veuillez entrer deux valeur\n",
      "Première valeur1\n",
      "Deuxième valeur2\n",
      "Résultat de l'expression donné:  0.6145086106735358\n"
     ]
    }
   ],
   "source": [
    "from math import sin\n",
    "\n",
    "print(\"Veuillez entrer deux valeur\")\n",
    "x = float(input(\"Première valeur\"))\n",
    "\n",
    "y = float(input(\"Deuxième valeur\"))\n",
    "\n",
    "resultat = ((x**2+y)**(0.5))/((1/x)+2*sin(y))\n",
    "\n",
    "print(\"Résultat de l'expression donné: \",resultat)"
   ]
  },
  {
   "cell_type": "markdown",
   "id": "3d26488a",
   "metadata": {},
   "source": [
    "**Question 2**"
   ]
  },
  {
   "cell_type": "code",
   "execution_count": 42,
   "id": "0807a05b",
   "metadata": {},
   "outputs": [],
   "source": [
    "def ownpowerfn(b,n):\n",
    "\n",
    "    \"\"\" __Cette fonction permet de calculer la puissance de deux valeurs__ \"\"\"\n",
    "\n",
    "    resultat = pow(b,n) \n",
    "\n",
    "    return resultat"
   ]
  },
  {
   "cell_type": "code",
   "execution_count": 17,
   "id": "83b1357e",
   "metadata": {},
   "outputs": [
    {
     "name": "stdout",
     "output_type": "stream",
     "text": [
      "Veuillez entrer deux entiers\n",
      "Premier entier12\n",
      "Deuxième entier (positif)-2\n",
      "Deuxième entier (positif)1\n"
     ]
    },
    {
     "data": {
      "text/plain": [
       "12"
      ]
     },
     "execution_count": 17,
     "metadata": {},
     "output_type": "execute_result"
    }
   ],
   "source": [
    "print(\"Veuillez entrer deux entiers\")\n",
    "b = int(input('Premier entier'))\n",
    "\n",
    "n = int(input(\"Deuxième entier (positif)\"))\n",
    "\n",
    "while n < 0:\n",
    "    n = int(input(\"Deuxième entier (positif)\"))\n",
    "\n",
    "ownpowerfn(b,n)"
   ]
  },
  {
   "cell_type": "markdown",
   "id": "3743fc62",
   "metadata": {},
   "source": [
    "**Question 3**"
   ]
  },
  {
   "cell_type": "markdown",
   "id": "177293f7",
   "metadata": {},
   "source": [
    "**a)**"
   ]
  },
  {
   "cell_type": "code",
   "execution_count": 32,
   "id": "6e683133",
   "metadata": {},
   "outputs": [],
   "source": [
    "def arithmetic_mean(arg1, arg2):\n",
    "    \n",
    "    \n",
    "    \"\"\" __Moyenne arithmetique de deux valeurs__ \"\"\"\n",
    "    \n",
    "    return ((arg1+arg2)/2)\n",
    "\n",
    "def geometric_mean(arg1, arg2):\n",
    "    \n",
    "    \"\"\" __Moyenne geometrique de deux valeurs__ \"\"\"\n",
    "    \n",
    "    return ((arg1*arg2)**(1/2))"
   ]
  },
  {
   "cell_type": "markdown",
   "id": "94a692a9",
   "metadata": {},
   "source": [
    "**b)**"
   ]
  },
  {
   "cell_type": "code",
   "execution_count": 23,
   "id": "07b3ec13",
   "metadata": {},
   "outputs": [],
   "source": [
    "def celcius_to_fahrenheit(celsius):\n",
    "    \n",
    "    \n",
    "    \"\"\" __Convertion de celsius a fan__ \"\"\"\n",
    "    \n",
    "    return ((celsius * (9/5))+32)\n",
    "\n",
    "def fahrenheit_to_celcius(fahrenheit):\n",
    "    \n",
    "    \n",
    "    \"\"\" __Convertion de fan a celsius__ \"\"\"\n",
    "    \n",
    "    return ((fahrenheit - 32)*(5/9))"
   ]
  },
  {
   "cell_type": "markdown",
   "id": "c14b8622",
   "metadata": {},
   "source": [
    "**c)**"
   ]
  },
  {
   "cell_type": "code",
   "execution_count": 43,
   "id": "3e57678b",
   "metadata": {},
   "outputs": [],
   "source": [
    "def degrees_to_radians(degree):\n",
    "    \n",
    "    \n",
    "    \"\"\" __Convertion de degree en radian__ \"\"\"\n",
    "    \n",
    "    pi = 3.14\n",
    "    return (degree * (pi/180) )\n",
    "\n",
    "def radians_to_degrees(radian):\n",
    "    \n",
    "    \n",
    "    \"\"\" __Convertion de radian en degre__ \"\"\"\n",
    "    \n",
    "    pi = 3.14\n",
    "    return (radian * (180/pi))\n"
   ]
  },
  {
   "cell_type": "markdown",
   "id": "bfa8f548",
   "metadata": {},
   "source": [
    "**d)**"
   ]
  },
  {
   "cell_type": "code",
   "execution_count": 44,
   "id": "2bb34946",
   "metadata": {},
   "outputs": [],
   "source": [
    "def circonférence_cercle(rayon):\n",
    "    \n",
    "    \n",
    "    \"\"\" __Calcul du perimetre du cercle__ \"\"\"\n",
    "    \n",
    "    pi = 3.14\n",
    "    return (rayon*2*pi)\n",
    "\n",
    "def aire_cercle(rayon):\n",
    "    \n",
    "    \n",
    "    \"\"\" __Calcul de l'aire du cercle__ \"\"\"\n",
    "    \n",
    "    pi = 3.14\n",
    "    return (rayon*rayon*pi)"
   ]
  },
  {
   "cell_type": "markdown",
   "id": "5f512e79",
   "metadata": {},
   "source": [
    "**4)**"
   ]
  },
  {
   "cell_type": "markdown",
   "id": "de6a6e56",
   "metadata": {},
   "source": [
    "**a)**"
   ]
  },
  {
   "cell_type": "code",
   "execution_count": 41,
   "id": "464f58fc",
   "metadata": {},
   "outputs": [
    {
     "name": "stdout",
     "output_type": "stream",
     "text": [
      "Veuillez entrer deux entiers\n",
      "Premier entier-2\n",
      "Deuxième entier2\n",
      "Veuillez entrer deux entiers\n",
      "Premier entier1\n",
      "Deuxième entier2\n",
      "Resultat de la moyennne geometrique:  1.4142135623730951\n",
      "Veuillez entrer deux entiers\n",
      "Premier entier58\n",
      "Deuxième entier-2\n",
      "Veuillez entrer deux entiers\n",
      "Premier entier5\n",
      "Deuxième entier4\n",
      "Resultat de la moyennne geometrique:  4.47213595499958\n",
      "Veuillez entrer deux entiers\n",
      "Premier entier8\n",
      "Deuxième entier5\n",
      "Resultat de la moyennne geometrique:  6.324555320336759\n",
      "Veuillez entrer deux entiers\n",
      "Premier entier2\n",
      "Deuxième entier5\n",
      "Resultat de la moyennne geometrique:  3.1622776601683795\n",
      "Veuillez entrer deux entiers\n",
      "Premier entier4\n",
      "Deuxième entier8\n",
      "Resultat de la moyennne geometrique:  5.656854249492381\n",
      "Veuillez entrer deux entiers\n",
      "Premier entier6\n",
      "Deuxième entier9\n",
      "Resultat de la moyennne geometrique:  7.3484692283495345\n",
      "Veuillez entrer deux entiers\n",
      "Premier entier3\n",
      "Deuxième entier2\n",
      "Resultat de la moyennne geometrique:  2.449489742783178\n",
      "Veuillez entrer deux entiers\n",
      "Premier entier1\n",
      "Deuxième entier4\n",
      "Resultat de la moyennne geometrique:  2.0\n",
      "Veuillez entrer deux entiers\n",
      "Premier entier56\n",
      "Deuxième entier9\n",
      "Resultat de la moyennne geometrique:  22.44994432064365\n",
      "Veuillez entrer deux entiers\n",
      "Premier entier87\n",
      "Deuxième entier41\n",
      "Resultat de la moyennne geometrique:  59.724366886556446\n"
     ]
    }
   ],
   "source": [
    "def avggeom():\n",
    "    \n",
    "    \"\"\" __Moyenne geometrique de deux valeurs__ \"\"\"\n",
    "\n",
    "    nbr_fois = 1\n",
    "\n",
    "    while nbr_fois <= 10:\n",
    "    \n",
    "        print(\"Veuillez entrer deux entiers\")\n",
    "    \n",
    "        val1 = int(input('Premier entier'))\n",
    "\n",
    "        val2 = int(input(\"Deuxième entier\"))\n",
    "        \n",
    "        \n",
    "        while (val1 < 0 or val2 < 0):\n",
    "            \n",
    "            print(\"Veuillez entrer deux entiers\")\n",
    "    \n",
    "            val1 = int(input('Premier entier'))\n",
    "\n",
    "            val2 = int(input(\"Deuxième entier\"))\n",
    "            \n",
    "\n",
    "        print(\"Resultat de la moyennne geometrique: \",geometric_mean(val1,val2))\n",
    "    \n",
    "        nbr_fois += 1\n",
    "    \n",
    "avggeom() \n",
    "    "
   ]
  },
  {
   "cell_type": "markdown",
   "id": "17f4e364",
   "metadata": {},
   "source": [
    "**b)**"
   ]
  },
  {
   "cell_type": "code",
   "execution_count": null,
   "id": "a05aa5b9",
   "metadata": {},
   "outputs": [],
   "source": []
  },
  {
   "cell_type": "markdown",
   "id": "43ad9923",
   "metadata": {},
   "source": [
    "**Question 5**"
   ]
  },
  {
   "cell_type": "code",
   "execution_count": 52,
   "id": "7e32de26",
   "metadata": {},
   "outputs": [
    {
     "name": "stdout",
     "output_type": "stream",
     "text": [
      "Voici le menu\n",
      "1 - Factoriel\n",
      "2- Equation degre\n",
      "3- Quitter\n",
      "Votre choix svp3\n",
      "Au revoir\n"
     ]
    }
   ],
   "source": [
    "def factorial(valeur):\n",
    "    \n",
    "    \"\"\" __Factoriel d'un nombre__ \"\"\"\n",
    "    \n",
    "    if (valeur == 0):\n",
    "        return 1;\n",
    "    \n",
    "    else:\n",
    "        \n",
    "        return valeur * factorial(valeur - 1)\n",
    "\n",
    "def resoudreEquationSecondDegre(a,b,c): \n",
    "    \n",
    "    delta = calculerDelta(a,b,c)\n",
    "    \n",
    "    if delta > 0:\n",
    "    \n",
    "        racineDeDelta=math.sqrt(delta)\n",
    "        \n",
    "        retour = [(-b-racineDeDelta)/(2*a),(-b+racineDeDelta)/(2*a)]\n",
    "    \n",
    "    elif delta < 0:\n",
    "        \n",
    "        retour = []  #liste vide\n",
    "    \n",
    "    else:\n",
    "    \n",
    "        retour = [-b/(2*a)] #liste d'un seul élément\n",
    "   \n",
    "    return retour\n",
    "    \n",
    "def fact2nddeg():\n",
    "    \n",
    "    p = 1;\n",
    "    \n",
    "    while p == 1:\n",
    "        \n",
    "        print(\"Voici le menu\")\n",
    "    \n",
    "        print(\"1 - Factoriel\")\n",
    "    \n",
    "        print(\"2- Equation degre\")\n",
    "    \n",
    "        print(\"3- Quitter\")\n",
    "    \n",
    "        choix = input(\"Votre choix svp\")\n",
    "        \n",
    "        if choix == '1':\n",
    "            \n",
    "            valeur = int(input(\"Entrer une valeur\"))\n",
    "            \n",
    "            resultat = factorial(valeur)\n",
    "    \n",
    "            print(\"Le resultat de cette valeur est \",resultat)\n",
    "            \n",
    "        elif choix == '2':\n",
    "            \n",
    "            print(\"Entrer 3 valeurs\")\n",
    "            \n",
    "            val1 = int(input(\"Valeur 1\"))\n",
    "            val2 = int(input(\"Valeur 2\"))\n",
    "            val3 = int(input(\"Valeur 3\"))\n",
    "            \n",
    "            resultat = resoudreEquationSecondDegre(val1,val2,val3)\n",
    "        \n",
    "        elif choix == '3':\n",
    "            print(\"Au revoir\")\n",
    "            p=0;\n",
    "            \n",
    "fact2nddeg()\n"
   ]
  },
  {
   "cell_type": "code",
   "execution_count": null,
   "id": "c639ff6d",
   "metadata": {},
   "outputs": [],
   "source": [
    "Question 6"
   ]
  }
 ],
 "metadata": {
  "kernelspec": {
   "display_name": "Python 3",
   "language": "python",
   "name": "python3"
  },
  "language_info": {
   "codemirror_mode": {
    "name": "ipython",
    "version": 3
   },
   "file_extension": ".py",
   "mimetype": "text/x-python",
   "name": "python",
   "nbconvert_exporter": "python",
   "pygments_lexer": "ipython3",
   "version": "3.8.5"
  }
 },
 "nbformat": 4,
 "nbformat_minor": 5
}
